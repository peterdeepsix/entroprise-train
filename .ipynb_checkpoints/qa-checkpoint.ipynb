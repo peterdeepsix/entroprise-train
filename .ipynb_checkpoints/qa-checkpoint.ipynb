{
 "cells": [
  {
   "cell_type": "code",
   "execution_count": null,
   "metadata": {},
   "outputs": [],
   "source": []
  },
  {
   "cell_type": "code",
   "execution_count": null,
   "metadata": {},
   "outputs": [],
   "source": [
    "from simpletransformers.question_answering import QuestionAnsweringModel\n",
    "import json\n",
    "import os\n",
    "import logging"
   ]
  },
  {
   "cell_type": "code",
   "execution_count": null,
   "metadata": {},
   "outputs": [],
   "source": [
    "logging.basicConfig(level=logging.INFO)\n",
    "transformers_logger = logging.getLogger(\"transformers\")\n",
    "transformers_logger.setLevel(logging.WARNING)"
   ]
  },
  {
   "cell_type": "code",
   "execution_count": null,
   "metadata": {},
   "outputs": [],
   "source": [
    "# Create dummy data to use for training.\n",
    "train_data = [\n",
    "    {\n",
    "        'context': \"This is the first context\",\n",
    "        'qas': [\n",
    "            {\n",
    "                'id': \"00001\",\n",
    "                'is_impossible': False,\n",
    "                'question': \"Which context is this?\",\n",
    "                'answers': [\n",
    "                    {\n",
    "                        'text': \"the first\",\n",
    "                        'answer_start': 8\n",
    "                    }\n",
    "                ]\n",
    "            }\n",
    "        ]\n",
    "    },\n",
    "    {\n",
    "        'context': \"Other legislation followed, including the Migratory Bird Conservation Act of 1929, a 1937 treaty prohibiting the hunting of right and gray whales,\n",
    "            and the Bald Eagle Protection Act of 1940. These later laws had a low cost to society—the species were relatively rare—and little opposition was raised\",\n",
    "        'qas': [\n",
    "            {\n",
    "                'id': \"00002\",\n",
    "                'is_impossible': False,\n",
    "                'question': \"What was the cost to society?\",\n",
    "                'answers': [\n",
    "                    {\n",
    "                        'text': \"low cost\",\n",
    "                        'answer_start': 225\n",
    "                    }\n",
    "                ]\n",
    "            },\n",
    "            {\n",
    "                'id': \"00003\",\n",
    "                'is_impossible': False,\n",
    "                'question': \"What was the name of the 1937 treaty?\",\n",
    "                'answers': [\n",
    "                    {\n",
    "                        'text': \"Bald Eagle Protection Act\",\n",
    "                        'answer_start': 167\n",
    "                    }\n",
    "                ]\n",
    "            }\n",
    "        ]\n",
    "    }\n",
    "]"
   ]
  },
  {
   "cell_type": "code",
   "execution_count": null,
   "metadata": {},
   "outputs": [],
   "source": [
    "# Save as a JSON file\n",
    "os.makedirs('data', exist_ok=True)\n",
    "with open('data/train.json', 'w') as f:\n",
    "    json.dump(train_data, f)"
   ]
  },
  {
   "cell_type": "code",
   "execution_count": null,
   "metadata": {},
   "outputs": [],
   "source": [
    "# Create the QuestionAnsweringModel\n",
    "model = QuestionAnsweringModel('distilbert', 'distilbert-base-uncased-distilled-squad', args={'reprocess_input_data': True, 'overwrite_output_dir': True})\n"
   ]
  },
  {
   "cell_type": "code",
   "execution_count": null,
   "metadata": {},
   "outputs": [],
   "source": [
    "# Train the model with JSON file\n",
    "model.train_model('data/train.json')"
   ]
  },
  {
   "cell_type": "code",
   "execution_count": null,
   "metadata": {},
   "outputs": [],
   "source": [
    "# The list can also be used directly\n",
    "# model.train_model(train_data)"
   ]
  },
  {
   "cell_type": "code",
   "execution_count": null,
   "metadata": {},
   "outputs": [],
   "source": [
    "# Evaluate the model. (Being lazy and evaluating on the train data itself)\n",
    "result, text = model.eval_model('data/train.json')"
   ]
  },
  {
   "cell_type": "code",
   "execution_count": null,
   "metadata": {},
   "outputs": [],
   "source": [
    "print(result)\n",
    "print(text)\n",
    "\n",
    "print('-------------------')"
   ]
  },
  {
   "cell_type": "code",
   "execution_count": null,
   "metadata": {},
   "outputs": [],
   "source": [
    "# Making predictions using the model.\n",
    "to_predict = [{'context': 'This is the context used for demonstrating predictions.', 'qas': [{'question': 'What is this context?', 'id': '0'}]}]\n"
   ]
  },
  {
   "cell_type": "code",
   "execution_count": null,
   "metadata": {},
   "outputs": [],
   "source": [
    "print(model.predict(to_predict))"
   ]
  }
 ],
 "metadata": {
  "kernelspec": {
   "display_name": "Python 3",
   "language": "python",
   "name": "python3"
  },
  "language_info": {
   "codemirror_mode": {
    "name": "ipython",
    "version": 3
   },
   "file_extension": ".py",
   "mimetype": "text/x-python",
   "name": "python",
   "nbconvert_exporter": "python",
   "pygments_lexer": "ipython3",
   "version": "3.7.6"
  }
 },
 "nbformat": 4,
 "nbformat_minor": 4
}
